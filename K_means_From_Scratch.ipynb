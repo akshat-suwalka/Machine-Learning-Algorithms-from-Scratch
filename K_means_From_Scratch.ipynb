{
  "nbformat": 4,
  "nbformat_minor": 0,
  "metadata": {
    "colab": {
      "name": "K-means_From_Scratch.ipynb",
      "provenance": [],
      "toc_visible": true,
      "authorship_tag": "ABX9TyPxTS/9a66zeMFZ4eAo/JIl",
      "include_colab_link": true
    },
    "kernelspec": {
      "name": "python3",
      "display_name": "Python 3"
    },
    "language_info": {
      "name": "python"
    }
  },
  "cells": [
    {
      "cell_type": "markdown",
      "metadata": {
        "id": "view-in-github",
        "colab_type": "text"
      },
      "source": [
        "<a href=\"https://colab.research.google.com/github/akshat-suwalka/Machine-Learning-Algorithms-from-Scratch/blob/master/K_means_From_Scratch.ipynb\" target=\"_parent\"><img src=\"https://colab.research.google.com/assets/colab-badge.svg\" alt=\"Open In Colab\"/></a>"
      ]
    },
    {
      "cell_type": "markdown",
      "metadata": {
        "id": "e6LAoq6Oe3P1"
      },
      "source": [
        "##Library"
      ]
    },
    {
      "cell_type": "code",
      "metadata": {
        "id": "L49rD-MlerSD"
      },
      "source": [
        "import numpy as np\n",
        "from numpy.linalg import norm"
      ],
      "execution_count": 1,
      "outputs": []
    },
    {
      "cell_type": "markdown",
      "metadata": {
        "id": "6uxjGCYXfJWF"
      },
      "source": [
        "##Dataset"
      ]
    },
    {
      "cell_type": "code",
      "metadata": {
        "id": "ioxjols7gHKn"
      },
      "source": [
        ""
      ],
      "execution_count": 1,
      "outputs": []
    },
    {
      "cell_type": "markdown",
      "metadata": {
        "id": "MtniFAlbgHX5"
      },
      "source": [
        "##K-means Algorithm from scratch"
      ]
    },
    {
      "cell_type": "markdown",
      "metadata": {
        "id": "if522NWigRDJ"
      },
      "source": [
        "###Random Initializtion of Centroids"
      ]
    },
    {
      "cell_type": "code",
      "metadata": {
        "id": "hEeciiMAgK_f"
      },
      "source": [
        "def intialize_centroids(n_clusters, X):\n",
        "  random_indx = np.random.permutation(X.shape[0])\n",
        "  random_indx = random_indx[:n_clusters]\n",
        "  centroids = X[random_indx]\n",
        "  return centroids"
      ],
      "execution_count": 2,
      "outputs": []
    },
    {
      "cell_type": "code",
      "metadata": {
        "colab": {
          "base_uri": "https://localhost:8080/"
        },
        "id": "ZT5tHAgyhRjg",
        "outputId": "579996e2-56f5-479a-e9c3-2bfd4b6bd323"
      },
      "source": [
        "#Example\n",
        "toy_data = np.random.rand(10,5)\n",
        "toy_data"
      ],
      "execution_count": 3,
      "outputs": [
        {
          "output_type": "execute_result",
          "data": {
            "text/plain": [
              "array([[0.57032615, 0.7945255 , 0.2017099 , 0.83177053, 0.25256721],\n",
              "       [0.12231346, 0.46112294, 0.27788717, 0.15282793, 0.45708607],\n",
              "       [0.45611462, 0.83621665, 0.88023941, 0.33381772, 0.29733438],\n",
              "       [0.36454285, 0.5088095 , 0.22284329, 0.72461627, 0.34542298],\n",
              "       [0.91274663, 0.8757186 , 0.12088078, 0.16794523, 0.8664994 ],\n",
              "       [0.83807831, 0.85307847, 0.71767904, 0.01280469, 0.06715342],\n",
              "       [0.10500549, 0.49351006, 0.74689272, 0.50354827, 0.91637508],\n",
              "       [0.63764809, 0.48109429, 0.34342931, 0.70748955, 0.12895042],\n",
              "       [0.85314474, 0.89156759, 0.36701657, 0.28074647, 0.29845309],\n",
              "       [0.9715712 , 0.23502184, 0.83462122, 0.64097034, 0.53388453]])"
            ]
          },
          "metadata": {
            "tags": []
          },
          "execution_count": 3
        }
      ]
    },
    {
      "cell_type": "code",
      "metadata": {
        "colab": {
          "base_uri": "https://localhost:8080/"
        },
        "id": "Xr5GwLxuhmWv",
        "outputId": "35cd26a8-3d49-464f-8af5-e7c662fb95eb"
      },
      "source": [
        "n_clusters = int(3)\n",
        "centroids = intialize_centroids(n_clusters,toy_data)\n",
        "centroids"
      ],
      "execution_count": 4,
      "outputs": [
        {
          "output_type": "execute_result",
          "data": {
            "text/plain": [
              "array([[0.85314474, 0.89156759, 0.36701657, 0.28074647, 0.29845309],\n",
              "       [0.63764809, 0.48109429, 0.34342931, 0.70748955, 0.12895042],\n",
              "       [0.10500549, 0.49351006, 0.74689272, 0.50354827, 0.91637508]])"
            ]
          },
          "metadata": {
            "tags": []
          },
          "execution_count": 4
        }
      ]
    },
    {
      "cell_type": "markdown",
      "metadata": {
        "id": "KX94WxRsh2fw"
      },
      "source": [
        "### Compute distance between datapoints and centroids"
      ]
    },
    {
      "cell_type": "code",
      "metadata": {
        "id": "DqVDUyYBh_Ot"
      },
      "source": [
        "def compute_distance(n_clusters, X, centroids):\n",
        "  distance = np.zeros((X.shape[0], n_clusters))\n",
        "  for i in range(n_clusters):\n",
        "    each_cluster = np.square(norm(X - centroids[i], axis = 1))\n",
        "    distance[:,i] = each_cluster\n",
        "\n",
        "  return distance\n"
      ],
      "execution_count": 5,
      "outputs": []
    },
    {
      "cell_type": "code",
      "metadata": {
        "colab": {
          "base_uri": "https://localhost:8080/"
        },
        "id": "HorbE9wWjlZZ",
        "outputId": "d7833c4e-3141-472e-c6b3-0ff049a4c864"
      },
      "source": [
        "#Example\n",
        "distance = compute_distance(n_clusters, toy_data, centroids)\n",
        "distance"
      ],
      "execution_count": 6,
      "outputs": [
        {
          "output_type": "execute_result",
          "data": {
            "text/plain": [
              "array([[0.42246285, 0.15358263, 1.15272865],\n",
              "       [0.76886858, 0.68558693, 0.55526584],\n",
              "       [0.42691213, 0.61521517, 0.67052661],\n",
              "       [0.60524807, 0.13704928, 0.71707889],\n",
              "       [0.39978714, 1.11602198, 1.30553705],\n",
              "       [0.24996491, 0.80501329, 1.62954531],\n",
              "       [1.29393625, 1.10827466, 0.        ],\n",
              "       [0.42632431, 0.        , 1.10827466],\n",
              "       [0.        , 0.42632431, 1.29393625],\n",
              "       [0.84892046, 0.58172223, 0.99063241]])"
            ]
          },
          "metadata": {
            "tags": []
          },
          "execution_count": 6
        }
      ]
    },
    {
      "cell_type": "markdown",
      "metadata": {
        "id": "b1TmxeCYlIE1"
      },
      "source": [
        "###Find nearest cluster of each data point"
      ]
    },
    {
      "cell_type": "code",
      "metadata": {
        "id": "N3rxgHDnlON4"
      },
      "source": [
        "def find_nearest_cluster(distance):\n",
        "  return np.argmin(distance, axis = 1)"
      ],
      "execution_count": 7,
      "outputs": []
    },
    {
      "cell_type": "code",
      "metadata": {
        "colab": {
          "base_uri": "https://localhost:8080/"
        },
        "id": "uzsH0z_uliYM",
        "outputId": "307e5468-c7f6-472d-8d06-7a9fa9142781"
      },
      "source": [
        "#Example\n",
        "labels = find_nearest_cluster(distance)\n",
        "labels"
      ],
      "execution_count": 8,
      "outputs": [
        {
          "output_type": "execute_result",
          "data": {
            "text/plain": [
              "array([1, 2, 0, 1, 0, 0, 2, 1, 0, 1])"
            ]
          },
          "metadata": {
            "tags": []
          },
          "execution_count": 8
        }
      ]
    },
    {
      "cell_type": "markdown",
      "metadata": {
        "id": "tZRTxSGRlvjp"
      },
      "source": [
        "###Compute new/fresh centroids "
      ]
    },
    {
      "cell_type": "code",
      "metadata": {
        "id": "vBjoLYpPl0jC"
      },
      "source": [
        "def compute_centroids(n_clusters, labels, X):\n",
        "  fresh_centroids = np.zeros((n_clusters, X.shape[1]))\n",
        "  for i in range(n_clusters):\n",
        "    fresh_centroids[i] = np.mean(X[labels == i], axis = 0)\n",
        "  \n",
        "  return fresh_centroids"
      ],
      "execution_count": 9,
      "outputs": []
    },
    {
      "cell_type": "code",
      "metadata": {
        "colab": {
          "base_uri": "https://localhost:8080/"
        },
        "id": "c0CA8U8vmvxP",
        "outputId": "889e9c3e-e715-4502-bc16-370c1b479b87"
      },
      "source": [
        "#Example\n",
        "fresh_centroids = compute_centroids(n_clusters, labels, toy_data)\n",
        "fresh_centroids"
      ],
      "execution_count": 10,
      "outputs": [
        {
          "output_type": "execute_result",
          "data": {
            "text/plain": [
              "array([[0.76502108, 0.86414533, 0.52145395, 0.19882853, 0.38236007],\n",
              "       [0.63602207, 0.50486278, 0.40065093, 0.72621168, 0.31520628],\n",
              "       [0.11365948, 0.4773165 , 0.51238995, 0.3281881 , 0.68673057]])"
            ]
          },
          "metadata": {
            "tags": []
          },
          "execution_count": 10
        }
      ]
    },
    {
      "cell_type": "markdown",
      "metadata": {
        "id": "3SZBYOoPnP4e"
      },
      "source": [
        "### Calculate error through sum of squares method"
      ]
    },
    {
      "cell_type": "code",
      "metadata": {
        "id": "X8_t54VKnV2z"
      },
      "source": [
        "def compute_sse(n_clusters, X, centroids, labels):\n",
        "  each_cluster_sse = np.zeros(n_clusters)\n",
        "  for i in range(n_clusters):\n",
        "    each_cluster_sse = np.square(norm(X[labels == i] - centroids[i], axis = 1))\n",
        "  ans = np.sum(each_cluster_sse, axis = 0)\n",
        "  return ans"
      ],
      "execution_count": 11,
      "outputs": []
    },
    {
      "cell_type": "code",
      "metadata": {
        "colab": {
          "base_uri": "https://localhost:8080/"
        },
        "id": "7FkKJGjQoZiM",
        "outputId": "d49608a0-63e1-49b7-b237-96f8e8cd3c44"
      },
      "source": [
        "error = compute_sse(n_clusters, toy_data, fresh_centroids, labels)\n",
        "error"
      ],
      "execution_count": 12,
      "outputs": [
        {
          "output_type": "execute_result",
          "data": {
            "text/plain": [
              "0.277632920409339"
            ]
          },
          "metadata": {
            "tags": []
          },
          "execution_count": 12
        }
      ]
    },
    {
      "cell_type": "markdown",
      "metadata": {
        "id": "BVW7XvsDoxxN"
      },
      "source": [
        "### Complete algorithm at once"
      ]
    },
    {
      "cell_type": "code",
      "metadata": {
        "id": "WXJ6cfE1o_1_"
      },
      "source": [
        "class Kmeans:\n",
        "    '''Implementing Kmeans algorithm.'''\n",
        "\n",
        "    def __init__(self, n_clusters, max_iter=100, random_state=123):\n",
        "        self.n_clusters = n_clusters\n",
        "        self.max_iter = max_iter\n",
        "        self.random_state = random_state\n",
        "\n",
        "    def initializ_centroids(self, X):\n",
        "        np.random.RandomState(self.random_state)\n",
        "        random_idx = np.random.permutation(X.shape[0])\n",
        "        centroids = X[random_idx[:self.n_clusters]]\n",
        "        return centroids\n",
        "\n",
        "    def compute_centroids(self, X, labels):\n",
        "        centroids = np.zeros((self.n_clusters, X.shape[1]))\n",
        "        for k in range(self.n_clusters):\n",
        "            centroids[k, :] = np.mean(X[labels == k, :], axis=0)\n",
        "        return centroids\n",
        "\n",
        "    def compute_distance(self, X, centroids):\n",
        "        distance = np.zeros((X.shape[0], self.n_clusters))\n",
        "        for k in range(self.n_clusters):\n",
        "            row_norm = norm(X - centroids[k, :], axis=1)\n",
        "            distance[:, k] = np.square(row_norm)\n",
        "        return distance\n",
        "\n",
        "    def find_closest_cluster(self, distance):\n",
        "        return np.argmin(distance, axis=1)\n",
        "\n",
        "    def compute_sse(self, X, labels, centroids):\n",
        "        distance = np.zeros(X.shape[0])\n",
        "        for k in range(self.n_clusters):\n",
        "            distance[labels == k] = norm(X[labels == k] - centroids[k], axis=1)\n",
        "        return np.sum(np.square(distance))\n",
        "    \n",
        "    def fit(self, X):\n",
        "        self.centroids = self.initializ_centroids(X)\n",
        "        for i in range(self.max_iter):\n",
        "            old_centroids = self.centroids\n",
        "            distance = self.compute_distance(X, old_centroids)\n",
        "            self.labels = self.find_closest_cluster(distance)\n",
        "            self.centroids = self.compute_centroids(X, self.labels)\n",
        "            if np.all(old_centroids == self.centroids):\n",
        "                break\n",
        "        self.error = self.compute_sse(X, self.labels, self.centroids)\n",
        "    \n",
        "    def predict(self, X):\n",
        "        distance = self.compute_distance(X, old_centroids)\n",
        "        return self.find_closest_cluster(distance)"
      ],
      "execution_count": 13,
      "outputs": []
    },
    {
      "cell_type": "markdown",
      "metadata": {
        "id": "4z5cGWpFqGJC"
      },
      "source": [
        "##Testing through scratch algorithm"
      ]
    },
    {
      "cell_type": "code",
      "metadata": {
        "id": "72gSg4-4qi4j"
      },
      "source": [
        "toy_data = np.random.rand(10,5)"
      ],
      "execution_count": 14,
      "outputs": []
    },
    {
      "cell_type": "code",
      "metadata": {
        "colab": {
          "base_uri": "https://localhost:8080/"
        },
        "id": "IXvvAf7NpKIE",
        "outputId": "2d404762-1cfd-4146-9abe-789c441fea55"
      },
      "source": [
        "print(\"Data : \\n{}\".format(toy_data))\n",
        "km = Kmeans(n_clusters=2, max_iter=100)\n",
        "km.fit(toy_data)\n",
        "centroids = km.centroids\n",
        "print(\"\\nCentroids : \\n{}\".format(centroids))\n",
        "error = km.error\n",
        "print(\"\\nSSE_Error : \\n{}\".format(error))"
      ],
      "execution_count": 15,
      "outputs": [
        {
          "output_type": "stream",
          "text": [
            "Data : \n",
            "[[0.90176752 0.89509561 0.3089601  0.11503485 0.46502798]\n",
            " [0.89081707 0.26219081 0.85786181 0.79477776 0.65926119]\n",
            " [0.64274047 0.13623718 0.52647662 0.51682436 0.77440541]\n",
            " [0.2965551  0.77506156 0.3160154  0.509545   0.80053618]\n",
            " [0.07370216 0.64961757 0.74745577 0.89896963 0.98584538]\n",
            " [0.16333892 0.77482354 0.64230954 0.79585249 0.55805916]\n",
            " [0.42482017 0.18631904 0.32540633 0.43459994 0.58921947]\n",
            " [0.51885525 0.00244423 0.93968292 0.54121889 0.88636333]\n",
            " [0.51332459 0.56394495 0.37225844 0.04803221 0.84409154]\n",
            " [0.91769163 0.75455459 0.34014141 0.50500245 0.7120671 ]]\n",
            "\n",
            "Centroids : \n",
            "[[0.6108318  0.63499515 0.33255634 0.32244289 0.68218845]\n",
            " [0.45789078 0.36506267 0.74275733 0.70952863 0.77278689]]\n",
            "\n",
            "SSE_Error : \n",
            "2.1735351324378134\n"
          ],
          "name": "stdout"
        }
      ]
    },
    {
      "cell_type": "markdown",
      "metadata": {
        "id": "p_c0IjaXqMPc"
      },
      "source": [
        "##Testing thorugh Sklearn"
      ]
    },
    {
      "cell_type": "code",
      "metadata": {
        "id": "luZoUdi3qPFg"
      },
      "source": [
        "from sklearn.cluster import KMeans"
      ],
      "execution_count": 16,
      "outputs": []
    },
    {
      "cell_type": "code",
      "metadata": {
        "colab": {
          "base_uri": "https://localhost:8080/"
        },
        "id": "fF5J_OBLqVXO",
        "outputId": "991327a9-ed59-48b6-8ec3-a5fc2c795430"
      },
      "source": [
        "print(\"Data : \\n{}\".format(toy_data))\n",
        "km = Kmeans(n_clusters=2, max_iter=100)\n",
        "km.fit(toy_data)\n",
        "centroids = km.centroids\n",
        "print(\"\\nCentroids : \\n{}\".format(centroids))\n",
        "error = km.error\n",
        "print(\"\\nSSE_Error : \\n{}\".format(error))"
      ],
      "execution_count": 17,
      "outputs": [
        {
          "output_type": "stream",
          "text": [
            "Data : \n",
            "[[0.90176752 0.89509561 0.3089601  0.11503485 0.46502798]\n",
            " [0.89081707 0.26219081 0.85786181 0.79477776 0.65926119]\n",
            " [0.64274047 0.13623718 0.52647662 0.51682436 0.77440541]\n",
            " [0.2965551  0.77506156 0.3160154  0.509545   0.80053618]\n",
            " [0.07370216 0.64961757 0.74745577 0.89896963 0.98584538]\n",
            " [0.16333892 0.77482354 0.64230954 0.79585249 0.55805916]\n",
            " [0.42482017 0.18631904 0.32540633 0.43459994 0.58921947]\n",
            " [0.51885525 0.00244423 0.93968292 0.54121889 0.88636333]\n",
            " [0.51332459 0.56394495 0.37225844 0.04803221 0.84409154]\n",
            " [0.91769163 0.75455459 0.34014141 0.50500245 0.7120671 ]]\n",
            "\n",
            "Centroids : \n",
            "[[0.68714524 0.40011234 0.52439823 0.42221292 0.704348  ]\n",
            " [0.17786539 0.73316756 0.56859357 0.73478904 0.78148024]]\n",
            "\n",
            "SSE_Error : \n",
            "2.2305559694885955\n"
          ],
          "name": "stdout"
        }
      ]
    }
  ]
}