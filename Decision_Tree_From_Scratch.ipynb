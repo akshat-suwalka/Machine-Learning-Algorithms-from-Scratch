{
  "nbformat": 4,
  "nbformat_minor": 0,
  "metadata": {
    "colab": {
      "name": "Decision_Tree_From_Scratch.ipynb",
      "provenance": [],
      "collapsed_sections": []
    },
    "kernelspec": {
      "name": "python3",
      "display_name": "Python 3"
    },
    "accelerator": "GPU"
  },
  "cells": [
    {
      "cell_type": "markdown",
      "metadata": {
        "id": "1-ivPfpXIwhO",
        "colab_type": "text"
      },
      "source": [
        ""
      ]
    },
    {
      "cell_type": "code",
      "metadata": {
        "id": "AXnu1_84PtFO",
        "colab_type": "code",
        "colab": {}
      },
      "source": [
        "#Library \n",
        "import numpy as np\n",
        "import pandas as pd"
      ],
      "execution_count": 0,
      "outputs": []
    },
    {
      "cell_type": "code",
      "metadata": {
        "id": "X-0qxsm8bwml",
        "colab_type": "code",
        "colab": {}
      },
      "source": [
        "#Reading Dataframe\n",
        "df = pd.read_csv('data1_19.csv')"
      ],
      "execution_count": 0,
      "outputs": []
    },
    {
      "cell_type": "code",
      "metadata": {
        "id": "BLuQpsEdKvqD",
        "colab_type": "code",
        "colab": {}
      },
      "source": [
        "#Check if data is of only one class\n",
        "def IS_Data_Pure(data):\n",
        "  \n",
        "  d = data[:,-1]\n",
        "  arr = np.unique(d)\n",
        "  if len(arr) == 1:\n",
        "    return True\n",
        "  else: return False"
      ],
      "execution_count": 0,
      "outputs": []
    },
    {
      "cell_type": "code",
      "metadata": {
        "id": "EIP9vkK3Pc2B",
        "colab_type": "code",
        "colab": {}
      },
      "source": [
        "#Give the most frequent class\n",
        "def Classify_it(data):\n",
        "  uniq_arr, uniq_arr_counts = np.unique(data, return_counts = True,)\n",
        "  index = np.argmax(uniq_arr_counts)\n",
        "  return uniq_arr[index]"
      ],
      "execution_count": 0,
      "outputs": []
    },
    {
      "cell_type": "code",
      "metadata": {
        "id": "fjpkT2ip3AEn",
        "colab_type": "code",
        "colab": {}
      },
      "source": [
        "def entropy(data):\n",
        "  classes = np.unique(data)\n",
        "  n_sample = len(data)\n",
        "  entropy = 0\n",
        "  for each_class in classes:\n",
        "    n_class = len(data[data == each_class])\n",
        "    prob = n_class / n_sample\n",
        "    #applying formula\n",
        "    entropy += prob * np.log2(prob)\n",
        "  \n",
        "  return -entropy"
      ],
      "execution_count": 0,
      "outputs": []
    },
    {
      "cell_type": "code",
      "metadata": {
        "id": "zvkcs9VIQZ8J",
        "colab_type": "code",
        "colab": {}
      },
      "source": [
        "#Find best feature according to information gain\n",
        "def Find_Best_Split(df):\n",
        "  data = df.values\n",
        "  #initiating the information gain\n",
        "  best_Information_gain = -99999\n",
        "  bestt_feature = ''\n",
        "  \n",
        "  #for each feature\n",
        "  for column in df.drop(df.columns[-1],axis = 1).columns:\n",
        "    \n",
        "    #entropy of feature\n",
        "    entropy_feature = entropy(df.values[:,-1])\n",
        "    Information_gain_first_term = entropy_feature\n",
        "    Information_gain_second_term = 0\n",
        "\n",
        "    n_sample = df[column].count()\n",
        "    \n",
        "    for value in df[column].unique():\n",
        "      df_value = df[df[column] == value]\n",
        "      #entropy of each value\n",
        "      entropy_value = entropy(df_value.values[:,-1])\n",
        "      len_df_value = len(df_value)\n",
        "      coefficient_for_multiplication = len_df_value / n_sample\n",
        "      # summation of second term of Information gain\n",
        "      Information_gain_second_term += coefficient_for_multiplication * entropy_value\n",
        "    \n",
        "    #Information Gain\n",
        "    Information_gain = Information_gain_first_term - Information_gain_second_term\n",
        "\n",
        "    #Find the best_inforamtion_gain\n",
        "    if Information_gain > best_Information_gain:\n",
        "      best_Information_gain = Information_gain\n",
        "      bestt_feature = column\n",
        "  \n",
        "  return bestt_feature\n",
        "      "
      ],
      "execution_count": 0,
      "outputs": []
    },
    {
      "cell_type": "code",
      "metadata": {
        "id": "8zn1MIhLag_K",
        "colab_type": "code",
        "colab": {}
      },
      "source": [
        "#Check if the all element are same\n",
        "def all_element_same(arr,value):\n",
        "  \n",
        "  for each in arr:\n",
        "    if each != value:\n",
        "      return False\n",
        "  \n",
        "  return True"
      ],
      "execution_count": 0,
      "outputs": []
    },
    {
      "cell_type": "code",
      "metadata": {
        "id": "-d-VR76Xblr-",
        "colab_type": "code",
        "colab": {}
      },
      "source": [
        "#Predict the class\n",
        "def Predict(tree,row):\n",
        "  if not isinstance(tree,dict):\n",
        "    return tree\n",
        "  for question in tree.keys():\n",
        "    words = question.split()\n",
        "    #node\n",
        "    node = words[0]\n",
        "    #value of node\n",
        "    value = words[2]\n",
        "    if row[node] == value:\n",
        "      return Predict(tree[question],row)"
      ],
      "execution_count": 0,
      "outputs": []
    },
    {
      "cell_type": "code",
      "metadata": {
        "id": "R7iBHEdrq478",
        "colab_type": "code",
        "colab": {}
      },
      "source": [
        "def Decision_Tree_Algo(df):\n",
        "\n",
        "  sub_tree = {}\n",
        "  \n",
        "  # Terminating Condition\n",
        "  if IS_Data_Pure(df.values):\n",
        "    return Classify_it(df.values)\n",
        "  \n",
        "  else:\n",
        "    #if more than 1 feature are available\n",
        "    if len(df.columns) > 1:\n",
        "      #find =ing the feature\n",
        "      best_feature = Find_Best_Split(df)\n",
        "      \n",
        "      for value in df[best_feature].unique():\n",
        "   \n",
        "        question = '{} = {}'.format(best_feature,value)\n",
        "        yes_value_df = df[df[best_feature] == value]\n",
        "      \n",
        "        if len(yes_value_df) > 1 and len(yes_value_df.columns) >= 2:\n",
        "          yes_value_df = yes_value_df.drop(best_feature, axis = 1)\n",
        "   \n",
        "          if len(yes_value_df.columns) >=1:\n",
        "            sub_tree[question] = Decision_Tree_Algo( yes_value_df )\n",
        "      \n",
        "      for each in np.unique(df.values[:,-1]):\n",
        "        if all_element_same(sub_tree.values(),each):\n",
        "          return each\n",
        "     \n",
        "      return sub_tree\n",
        "    \n",
        "    else:\n",
        "      return Classify_it(df.values)\n",
        "\n",
        "    "
      ],
      "execution_count": 0,
      "outputs": []
    },
    {
      "cell_type": "code",
      "metadata": {
        "id": "MYV5yKGD1Roz",
        "colab_type": "code",
        "colab": {}
      },
      "source": [
        "#printing the tree\n",
        "def print_tree(tree,counter=0):\n",
        "  #checking if we get class or not and printing if it\n",
        "  if not isinstance(tree, dict):\n",
        "    print('{} : {}'.format('\\t'*counter,tree))\n",
        "    return\n",
        "  #checking each instances\n",
        "  for question in tree.keys():\n",
        "    print('\\n{}{}'.format('\\t'*counter,question))\n",
        "    print_tree(tree[question], counter + 1)\n",
        "  \n",
        "  return\n",
        "    "
      ],
      "execution_count": 0,
      "outputs": []
    },
    {
      "cell_type": "code",
      "metadata": {
        "id": "hHBzK44f71S8",
        "colab_type": "code",
        "outputId": "38745300-4cee-490e-f202-7f780df0330b",
        "colab": {
          "base_uri": "https://localhost:8080/",
          "height": 663
        }
      },
      "source": [
        "#Applying the algo\n",
        "tree = Decision_Tree_Algo(df)\n",
        "#printing the tree\n",
        "print_tree(tree)"
      ],
      "execution_count": 0,
      "outputs": [
        {
          "output_type": "stream",
          "text": [
            "\n",
            "gender = male\n",
            "\n",
            "\tpclass = 1st\n",
            "\n",
            "\t\tage = adult\n",
            "\t\t\t : no\n",
            "\n",
            "\t\tage = child\n",
            "\t\t\t : yes\n",
            "\n",
            "\tpclass = 2nd\n",
            "\n",
            "\t\tage = adult\n",
            "\t\t\t : no\n",
            "\n",
            "\t\tage = child\n",
            "\t\t\t : yes\n",
            "\n",
            "\tpclass = 3rd\n",
            "\t\t : no\n",
            "\n",
            "\tpclass = crew\n",
            "\t\t : no\n",
            "\n",
            "gender = female\n",
            "\n",
            "\tpclass = 1st\n",
            "\t\t : yes\n",
            "\n",
            "\tpclass = 2nd\n",
            "\t\t : yes\n",
            "\n",
            "\tpclass = 3rd\n",
            "\t\t : no\n",
            "\n",
            "\tpclass = crew\n",
            "\t\t : yes\n"
          ],
          "name": "stdout"
        }
      ]
    },
    {
      "cell_type": "code",
      "metadata": {
        "id": "mGqXHzudQHEm",
        "colab_type": "code",
        "outputId": "973793c2-9a27-414b-fe9a-6ec55c1dfced",
        "colab": {
          "base_uri": "https://localhost:8080/",
          "height": 153
        }
      },
      "source": [
        "tree"
      ],
      "execution_count": 0,
      "outputs": [
        {
          "output_type": "execute_result",
          "data": {
            "text/plain": [
              "{'gender = female': {'pclass = 1st': 'yes',\n",
              "  'pclass = 2nd': 'yes',\n",
              "  'pclass = 3rd': 'no',\n",
              "  'pclass = crew': 'yes'},\n",
              " 'gender = male': {'pclass = 1st': {'age = adult': 'no', 'age = child': 'yes'},\n",
              "  'pclass = 2nd': {'age = adult': 'no', 'age = child': 'yes'},\n",
              "  'pclass = 3rd': 'no',\n",
              "  'pclass = crew': 'no'}}"
            ]
          },
          "metadata": {
            "tags": []
          },
          "execution_count": 518
        }
      ]
    },
    {
      "cell_type": "code",
      "metadata": {
        "id": "hcp1GVnZbvCN",
        "colab_type": "code",
        "outputId": "f85e860b-22a0-4b2f-96a7-f268873c32f1",
        "colab": {
          "base_uri": "https://localhost:8080/",
          "height": 34
        }
      },
      "source": [
        "#predicing the tree\n",
        "Predict(tree,df.loc[200].drop('survived'))"
      ],
      "execution_count": 0,
      "outputs": [
        {
          "output_type": "execute_result",
          "data": {
            "text/plain": [
              "'yes'"
            ]
          },
          "metadata": {
            "tags": []
          },
          "execution_count": 519
        }
      ]
    },
    {
      "cell_type": "code",
      "metadata": {
        "id": "vyXYFMYZeQd2",
        "colab_type": "code",
        "outputId": "4eaec016-0295-400f-ddca-223cbebdc739",
        "colab": {
          "base_uri": "https://localhost:8080/",
          "height": 102
        }
      },
      "source": [
        "df.loc[200]"
      ],
      "execution_count": 0,
      "outputs": [
        {
          "output_type": "execute_result",
          "data": {
            "text/plain": [
              "pclass         1st\n",
              "age          adult\n",
              "gender      female\n",
              "survived       yes\n",
              "Name: 200, dtype: object"
            ]
          },
          "metadata": {
            "tags": []
          },
          "execution_count": 520
        }
      ]
    }
  ]
}