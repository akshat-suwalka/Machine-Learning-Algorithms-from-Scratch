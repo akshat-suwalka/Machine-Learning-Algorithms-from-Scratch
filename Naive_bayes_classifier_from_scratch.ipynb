{
  "nbformat": 4,
  "nbformat_minor": 0,
  "metadata": {
    "colab": {
      "name": "Naive bayes classifier from scratch.ipynb",
      "provenance": [],
      "collapsed_sections": [],
      "toc_visible": true
    },
    "kernelspec": {
      "name": "python3",
      "display_name": "Python 3"
    },
    "accelerator": "GPU"
  },
  "cells": [
    {
      "cell_type": "markdown",
      "metadata": {
        "id": "vXiwKi5sFG-V",
        "colab_type": "text"
      },
      "source": [
        "# Libraries"
      ]
    },
    {
      "cell_type": "code",
      "metadata": {
        "id": "w_y9kexTFFvK",
        "colab_type": "code",
        "colab": {}
      },
      "source": [
        "import numpy as np\n",
        "import pandas as pd"
      ],
      "execution_count": 0,
      "outputs": []
    },
    {
      "cell_type": "markdown",
      "metadata": {
        "id": "QQYvpwAFE75w",
        "colab_type": "text"
      },
      "source": [
        "#Dataset"
      ]
    },
    {
      "cell_type": "code",
      "metadata": {
        "id": "01v17pntEOqA",
        "colab_type": "code",
        "outputId": "bc491b97-7bb1-4169-c95d-04aac8bf1ab8",
        "colab": {
          "base_uri": "https://localhost:8080/",
          "height": 204
        }
      },
      "source": [
        "data = pd.read_csv('data2_19.csv')\n",
        "data.head()"
      ],
      "execution_count": 0,
      "outputs": [
        {
          "output_type": "execute_result",
          "data": {
            "text/html": [
              "<div>\n",
              "<style scoped>\n",
              "    .dataframe tbody tr th:only-of-type {\n",
              "        vertical-align: middle;\n",
              "    }\n",
              "\n",
              "    .dataframe tbody tr th {\n",
              "        vertical-align: top;\n",
              "    }\n",
              "\n",
              "    .dataframe thead th {\n",
              "        text-align: right;\n",
              "    }\n",
              "</style>\n",
              "<table border=\"1\" class=\"dataframe\">\n",
              "  <thead>\n",
              "    <tr style=\"text-align: right;\">\n",
              "      <th></th>\n",
              "      <th>D,X1,X2,X3,X4,X5,X6</th>\n",
              "    </tr>\n",
              "  </thead>\n",
              "  <tbody>\n",
              "    <tr>\n",
              "      <th>0</th>\n",
              "      <td>0,3,3,3,4,2,4</td>\n",
              "    </tr>\n",
              "    <tr>\n",
              "      <th>1</th>\n",
              "      <td>0,3,2,3,5,4,3</td>\n",
              "    </tr>\n",
              "    <tr>\n",
              "      <th>2</th>\n",
              "      <td>1,5,3,3,3,3,5</td>\n",
              "    </tr>\n",
              "    <tr>\n",
              "      <th>3</th>\n",
              "      <td>0,5,4,3,3,3,5</td>\n",
              "    </tr>\n",
              "    <tr>\n",
              "      <th>4</th>\n",
              "      <td>0,5,4,3,3,3,5</td>\n",
              "    </tr>\n",
              "  </tbody>\n",
              "</table>\n",
              "</div>"
            ],
            "text/plain": [
              "  D,X1,X2,X3,X4,X5,X6\n",
              "0       0,3,3,3,4,2,4\n",
              "1       0,3,2,3,5,4,3\n",
              "2       1,5,3,3,3,3,5\n",
              "3       0,5,4,3,3,3,5\n",
              "4       0,5,4,3,3,3,5"
            ]
          },
          "metadata": {
            "tags": []
          },
          "execution_count": 17
        }
      ]
    },
    {
      "cell_type": "markdown",
      "metadata": {
        "id": "z-8HYsg7F8ti",
        "colab_type": "text"
      },
      "source": [
        "# Data Preprocessing"
      ]
    },
    {
      "cell_type": "code",
      "metadata": {
        "id": "vaudffjkJAAi",
        "colab_type": "code",
        "outputId": "0c15be10-72a1-47b8-d49d-4e06bc030aa1",
        "colab": {
          "base_uri": "https://localhost:8080/",
          "height": 204
        }
      },
      "source": [
        "df = pd.DataFrame( { 'X1':[], 'X2':[], 'X3':[], 'X4':[], 'X5':[], 'X6':[], 'Happy':[] })\n",
        "\n",
        "len_data = len(data)\n",
        "\n",
        "for i in range(len_data):\n",
        "  data_string = data.iloc[i][0]\n",
        "  data_list = data_string.split(',')\n",
        "  data_dict = {}\n",
        "  \n",
        "  for i in range(1,len(data_list)):\n",
        "    data_dict['X' + str(i)] = [int(data_list[i])]\n",
        "    \n",
        "  data_dict['Happy'] = int(data_list[0])\n",
        "  \n",
        "  temp_df = pd.DataFrame(data_dict)\n",
        "  df = pd.concat([df,temp_df])\n",
        "  \n",
        "df.head()  "
      ],
      "execution_count": 0,
      "outputs": [
        {
          "output_type": "execute_result",
          "data": {
            "text/html": [
              "<div>\n",
              "<style scoped>\n",
              "    .dataframe tbody tr th:only-of-type {\n",
              "        vertical-align: middle;\n",
              "    }\n",
              "\n",
              "    .dataframe tbody tr th {\n",
              "        vertical-align: top;\n",
              "    }\n",
              "\n",
              "    .dataframe thead th {\n",
              "        text-align: right;\n",
              "    }\n",
              "</style>\n",
              "<table border=\"1\" class=\"dataframe\">\n",
              "  <thead>\n",
              "    <tr style=\"text-align: right;\">\n",
              "      <th></th>\n",
              "      <th>X1</th>\n",
              "      <th>X2</th>\n",
              "      <th>X3</th>\n",
              "      <th>X4</th>\n",
              "      <th>X5</th>\n",
              "      <th>X6</th>\n",
              "      <th>Happy</th>\n",
              "    </tr>\n",
              "  </thead>\n",
              "  <tbody>\n",
              "    <tr>\n",
              "      <th>0</th>\n",
              "      <td>3.0</td>\n",
              "      <td>3.0</td>\n",
              "      <td>3.0</td>\n",
              "      <td>4.0</td>\n",
              "      <td>2.0</td>\n",
              "      <td>4.0</td>\n",
              "      <td>0.0</td>\n",
              "    </tr>\n",
              "    <tr>\n",
              "      <th>0</th>\n",
              "      <td>3.0</td>\n",
              "      <td>2.0</td>\n",
              "      <td>3.0</td>\n",
              "      <td>5.0</td>\n",
              "      <td>4.0</td>\n",
              "      <td>3.0</td>\n",
              "      <td>0.0</td>\n",
              "    </tr>\n",
              "    <tr>\n",
              "      <th>0</th>\n",
              "      <td>5.0</td>\n",
              "      <td>3.0</td>\n",
              "      <td>3.0</td>\n",
              "      <td>3.0</td>\n",
              "      <td>3.0</td>\n",
              "      <td>5.0</td>\n",
              "      <td>1.0</td>\n",
              "    </tr>\n",
              "    <tr>\n",
              "      <th>0</th>\n",
              "      <td>5.0</td>\n",
              "      <td>4.0</td>\n",
              "      <td>3.0</td>\n",
              "      <td>3.0</td>\n",
              "      <td>3.0</td>\n",
              "      <td>5.0</td>\n",
              "      <td>0.0</td>\n",
              "    </tr>\n",
              "    <tr>\n",
              "      <th>0</th>\n",
              "      <td>5.0</td>\n",
              "      <td>4.0</td>\n",
              "      <td>3.0</td>\n",
              "      <td>3.0</td>\n",
              "      <td>3.0</td>\n",
              "      <td>5.0</td>\n",
              "      <td>0.0</td>\n",
              "    </tr>\n",
              "  </tbody>\n",
              "</table>\n",
              "</div>"
            ],
            "text/plain": [
              "    X1   X2   X3   X4   X5   X6  Happy\n",
              "0  3.0  3.0  3.0  4.0  2.0  4.0    0.0\n",
              "0  3.0  2.0  3.0  5.0  4.0  3.0    0.0\n",
              "0  5.0  3.0  3.0  3.0  3.0  5.0    1.0\n",
              "0  5.0  4.0  3.0  3.0  3.0  5.0    0.0\n",
              "0  5.0  4.0  3.0  3.0  3.0  5.0    0.0"
            ]
          },
          "metadata": {
            "tags": []
          },
          "execution_count": 18
        }
      ]
    },
    {
      "cell_type": "markdown",
      "metadata": {
        "id": "_VftGCTXRoub",
        "colab_type": "text"
      },
      "source": [
        "# Model Training"
      ]
    },
    {
      "cell_type": "code",
      "metadata": {
        "id": "A5XIu9AyOhgr",
        "colab_type": "code",
        "outputId": "f834874b-b78d-4166-bfb2-340337b3a4a4",
        "colab": {
          "base_uri": "https://localhost:8080/",
          "height": 204
        }
      },
      "source": [
        "Happy_df = df[df['Happy'] == 1.0]\n",
        "Happy_df.head()"
      ],
      "execution_count": 0,
      "outputs": [
        {
          "output_type": "execute_result",
          "data": {
            "text/html": [
              "<div>\n",
              "<style scoped>\n",
              "    .dataframe tbody tr th:only-of-type {\n",
              "        vertical-align: middle;\n",
              "    }\n",
              "\n",
              "    .dataframe tbody tr th {\n",
              "        vertical-align: top;\n",
              "    }\n",
              "\n",
              "    .dataframe thead th {\n",
              "        text-align: right;\n",
              "    }\n",
              "</style>\n",
              "<table border=\"1\" class=\"dataframe\">\n",
              "  <thead>\n",
              "    <tr style=\"text-align: right;\">\n",
              "      <th></th>\n",
              "      <th>X1</th>\n",
              "      <th>X2</th>\n",
              "      <th>X3</th>\n",
              "      <th>X4</th>\n",
              "      <th>X5</th>\n",
              "      <th>X6</th>\n",
              "      <th>Happy</th>\n",
              "    </tr>\n",
              "  </thead>\n",
              "  <tbody>\n",
              "    <tr>\n",
              "      <th>0</th>\n",
              "      <td>5.0</td>\n",
              "      <td>3.0</td>\n",
              "      <td>3.0</td>\n",
              "      <td>3.0</td>\n",
              "      <td>3.0</td>\n",
              "      <td>5.0</td>\n",
              "      <td>1.0</td>\n",
              "    </tr>\n",
              "    <tr>\n",
              "      <th>0</th>\n",
              "      <td>5.0</td>\n",
              "      <td>5.0</td>\n",
              "      <td>3.0</td>\n",
              "      <td>5.0</td>\n",
              "      <td>5.0</td>\n",
              "      <td>5.0</td>\n",
              "      <td>1.0</td>\n",
              "    </tr>\n",
              "    <tr>\n",
              "      <th>0</th>\n",
              "      <td>5.0</td>\n",
              "      <td>4.0</td>\n",
              "      <td>4.0</td>\n",
              "      <td>4.0</td>\n",
              "      <td>4.0</td>\n",
              "      <td>5.0</td>\n",
              "      <td>1.0</td>\n",
              "    </tr>\n",
              "    <tr>\n",
              "      <th>0</th>\n",
              "      <td>5.0</td>\n",
              "      <td>2.0</td>\n",
              "      <td>4.0</td>\n",
              "      <td>5.0</td>\n",
              "      <td>5.0</td>\n",
              "      <td>5.0</td>\n",
              "      <td>1.0</td>\n",
              "    </tr>\n",
              "    <tr>\n",
              "      <th>0</th>\n",
              "      <td>3.0</td>\n",
              "      <td>2.0</td>\n",
              "      <td>4.0</td>\n",
              "      <td>3.0</td>\n",
              "      <td>4.0</td>\n",
              "      <td>4.0</td>\n",
              "      <td>1.0</td>\n",
              "    </tr>\n",
              "  </tbody>\n",
              "</table>\n",
              "</div>"
            ],
            "text/plain": [
              "    X1   X2   X3   X4   X5   X6  Happy\n",
              "0  5.0  3.0  3.0  3.0  3.0  5.0    1.0\n",
              "0  5.0  5.0  3.0  5.0  5.0  5.0    1.0\n",
              "0  5.0  4.0  4.0  4.0  4.0  5.0    1.0\n",
              "0  5.0  2.0  4.0  5.0  5.0  5.0    1.0\n",
              "0  3.0  2.0  4.0  3.0  4.0  4.0    1.0"
            ]
          },
          "metadata": {
            "tags": []
          },
          "execution_count": 19
        }
      ]
    },
    {
      "cell_type": "code",
      "metadata": {
        "id": "y4UZ7433ebMU",
        "colab_type": "code",
        "outputId": "1f27856d-8268-4d45-b921-0fd1f47a20e9",
        "colab": {
          "base_uri": "https://localhost:8080/",
          "height": 204
        }
      },
      "source": [
        "Sad_df = df[df['Happy'] == 0.0]\n",
        "Sad_df.head()"
      ],
      "execution_count": 0,
      "outputs": [
        {
          "output_type": "execute_result",
          "data": {
            "text/html": [
              "<div>\n",
              "<style scoped>\n",
              "    .dataframe tbody tr th:only-of-type {\n",
              "        vertical-align: middle;\n",
              "    }\n",
              "\n",
              "    .dataframe tbody tr th {\n",
              "        vertical-align: top;\n",
              "    }\n",
              "\n",
              "    .dataframe thead th {\n",
              "        text-align: right;\n",
              "    }\n",
              "</style>\n",
              "<table border=\"1\" class=\"dataframe\">\n",
              "  <thead>\n",
              "    <tr style=\"text-align: right;\">\n",
              "      <th></th>\n",
              "      <th>X1</th>\n",
              "      <th>X2</th>\n",
              "      <th>X3</th>\n",
              "      <th>X4</th>\n",
              "      <th>X5</th>\n",
              "      <th>X6</th>\n",
              "      <th>Happy</th>\n",
              "    </tr>\n",
              "  </thead>\n",
              "  <tbody>\n",
              "    <tr>\n",
              "      <th>0</th>\n",
              "      <td>3.0</td>\n",
              "      <td>3.0</td>\n",
              "      <td>3.0</td>\n",
              "      <td>4.0</td>\n",
              "      <td>2.0</td>\n",
              "      <td>4.0</td>\n",
              "      <td>0.0</td>\n",
              "    </tr>\n",
              "    <tr>\n",
              "      <th>0</th>\n",
              "      <td>3.0</td>\n",
              "      <td>2.0</td>\n",
              "      <td>3.0</td>\n",
              "      <td>5.0</td>\n",
              "      <td>4.0</td>\n",
              "      <td>3.0</td>\n",
              "      <td>0.0</td>\n",
              "    </tr>\n",
              "    <tr>\n",
              "      <th>0</th>\n",
              "      <td>5.0</td>\n",
              "      <td>4.0</td>\n",
              "      <td>3.0</td>\n",
              "      <td>3.0</td>\n",
              "      <td>3.0</td>\n",
              "      <td>5.0</td>\n",
              "      <td>0.0</td>\n",
              "    </tr>\n",
              "    <tr>\n",
              "      <th>0</th>\n",
              "      <td>5.0</td>\n",
              "      <td>4.0</td>\n",
              "      <td>3.0</td>\n",
              "      <td>3.0</td>\n",
              "      <td>3.0</td>\n",
              "      <td>5.0</td>\n",
              "      <td>0.0</td>\n",
              "    </tr>\n",
              "    <tr>\n",
              "      <th>0</th>\n",
              "      <td>3.0</td>\n",
              "      <td>1.0</td>\n",
              "      <td>2.0</td>\n",
              "      <td>2.0</td>\n",
              "      <td>1.0</td>\n",
              "      <td>3.0</td>\n",
              "      <td>0.0</td>\n",
              "    </tr>\n",
              "  </tbody>\n",
              "</table>\n",
              "</div>"
            ],
            "text/plain": [
              "    X1   X2   X3   X4   X5   X6  Happy\n",
              "0  3.0  3.0  3.0  4.0  2.0  4.0    0.0\n",
              "0  3.0  2.0  3.0  5.0  4.0  3.0    0.0\n",
              "0  5.0  4.0  3.0  3.0  3.0  5.0    0.0\n",
              "0  5.0  4.0  3.0  3.0  3.0  5.0    0.0\n",
              "0  3.0  1.0  2.0  2.0  1.0  3.0    0.0"
            ]
          },
          "metadata": {
            "tags": []
          },
          "execution_count": 20
        }
      ]
    },
    {
      "cell_type": "code",
      "metadata": {
        "id": "1dEu63fJVxto",
        "colab_type": "code",
        "colab": {}
      },
      "source": [
        "model = pd.DataFrame({'Rating':[1,2,3,4,5]})\n",
        "model = model.set_index('Rating')\n",
        "\n",
        "for i in range(1,7):\n",
        "  happy_temp = []\n",
        "  sad_temp = []\n",
        "  \n",
        "  happy_count = Happy_df['X' + str(i)].value_counts()\n",
        "  sad_count = Sad_df['X' + str(i)].value_counts()\n",
        "  \n",
        "  for j in range(1,6):\n",
        "    # Laplacian Smoothing\n",
        "    happy_laplacian_smoothing = ( sum(list(happy_count[happy_count.index == j])) + 1 ) / ( happy_count.sum() + 2 )\n",
        "    sad_laplacian_smoothing = ( sum(list(sad_count[sad_count.index == j])) + 1 ) / ( sad_count.sum() + 2 )\n",
        "    \n",
        "    happy_temp.append(happy_laplacian_smoothing)\n",
        "    sad_temp.append(sad_laplacian_smoothing)\n",
        "    \n",
        "  model['Happy_X' + str(i)] = happy_temp.copy()\n",
        "  model['Sad_X' + str(i)] = sad_temp.copy()"
      ],
      "execution_count": 0,
      "outputs": []
    },
    {
      "cell_type": "code",
      "metadata": {
        "id": "bTvgNMUTc7cM",
        "colab_type": "code",
        "outputId": "b8f180b4-cf40-4709-d966-7b7d5b4cf623",
        "colab": {
          "base_uri": "https://localhost:8080/",
          "height": 255
        }
      },
      "source": [
        "model"
      ],
      "execution_count": 0,
      "outputs": [
        {
          "output_type": "execute_result",
          "data": {
            "text/html": [
              "<div>\n",
              "<style scoped>\n",
              "    .dataframe tbody tr th:only-of-type {\n",
              "        vertical-align: middle;\n",
              "    }\n",
              "\n",
              "    .dataframe tbody tr th {\n",
              "        vertical-align: top;\n",
              "    }\n",
              "\n",
              "    .dataframe thead th {\n",
              "        text-align: right;\n",
              "    }\n",
              "</style>\n",
              "<table border=\"1\" class=\"dataframe\">\n",
              "  <thead>\n",
              "    <tr style=\"text-align: right;\">\n",
              "      <th></th>\n",
              "      <th>Happy_X1</th>\n",
              "      <th>Sad_X1</th>\n",
              "      <th>Happy_X2</th>\n",
              "      <th>Sad_X2</th>\n",
              "      <th>Happy_X3</th>\n",
              "      <th>Sad_X3</th>\n",
              "      <th>Happy_X4</th>\n",
              "      <th>Sad_X4</th>\n",
              "      <th>Happy_X5</th>\n",
              "      <th>Sad_X5</th>\n",
              "      <th>Happy_X6</th>\n",
              "      <th>Sad_X6</th>\n",
              "    </tr>\n",
              "    <tr>\n",
              "      <th>Rating</th>\n",
              "      <th></th>\n",
              "      <th></th>\n",
              "      <th></th>\n",
              "      <th></th>\n",
              "      <th></th>\n",
              "      <th></th>\n",
              "      <th></th>\n",
              "      <th></th>\n",
              "      <th></th>\n",
              "      <th></th>\n",
              "      <th></th>\n",
              "      <th></th>\n",
              "    </tr>\n",
              "  </thead>\n",
              "  <tbody>\n",
              "    <tr>\n",
              "      <th>1</th>\n",
              "      <td>0.013889</td>\n",
              "      <td>0.032787</td>\n",
              "      <td>0.194444</td>\n",
              "      <td>0.262295</td>\n",
              "      <td>0.041667</td>\n",
              "      <td>0.081967</td>\n",
              "      <td>0.027778</td>\n",
              "      <td>0.016393</td>\n",
              "      <td>0.027778</td>\n",
              "      <td>0.098361</td>\n",
              "      <td>0.013889</td>\n",
              "      <td>0.032787</td>\n",
              "    </tr>\n",
              "    <tr>\n",
              "      <th>2</th>\n",
              "      <td>0.013889</td>\n",
              "      <td>0.016393</td>\n",
              "      <td>0.333333</td>\n",
              "      <td>0.245902</td>\n",
              "      <td>0.138889</td>\n",
              "      <td>0.131148</td>\n",
              "      <td>0.027778</td>\n",
              "      <td>0.098361</td>\n",
              "      <td>0.125000</td>\n",
              "      <td>0.163934</td>\n",
              "      <td>0.013889</td>\n",
              "      <td>0.032787</td>\n",
              "    </tr>\n",
              "    <tr>\n",
              "      <th>3</th>\n",
              "      <td>0.111111</td>\n",
              "      <td>0.278689</td>\n",
              "      <td>0.319444</td>\n",
              "      <td>0.311475</td>\n",
              "      <td>0.361111</td>\n",
              "      <td>0.573770</td>\n",
              "      <td>0.347222</td>\n",
              "      <td>0.409836</td>\n",
              "      <td>0.166667</td>\n",
              "      <td>0.262295</td>\n",
              "      <td>0.083333</td>\n",
              "      <td>0.278689</td>\n",
              "    </tr>\n",
              "    <tr>\n",
              "      <th>4</th>\n",
              "      <td>0.263889</td>\n",
              "      <td>0.426230</td>\n",
              "      <td>0.125000</td>\n",
              "      <td>0.180328</td>\n",
              "      <td>0.347222</td>\n",
              "      <td>0.163934</td>\n",
              "      <td>0.430556</td>\n",
              "      <td>0.360656</td>\n",
              "      <td>0.430556</td>\n",
              "      <td>0.377049</td>\n",
              "      <td>0.402778</td>\n",
              "      <td>0.409836</td>\n",
              "    </tr>\n",
              "    <tr>\n",
              "      <th>5</th>\n",
              "      <td>0.638889</td>\n",
              "      <td>0.295082</td>\n",
              "      <td>0.069444</td>\n",
              "      <td>0.049180</td>\n",
              "      <td>0.152778</td>\n",
              "      <td>0.098361</td>\n",
              "      <td>0.208333</td>\n",
              "      <td>0.163934</td>\n",
              "      <td>0.291667</td>\n",
              "      <td>0.147541</td>\n",
              "      <td>0.527778</td>\n",
              "      <td>0.295082</td>\n",
              "    </tr>\n",
              "  </tbody>\n",
              "</table>\n",
              "</div>"
            ],
            "text/plain": [
              "        Happy_X1    Sad_X1  Happy_X2  ...    Sad_X5  Happy_X6    Sad_X6\n",
              "Rating                                ...                              \n",
              "1       0.013889  0.032787  0.194444  ...  0.098361  0.013889  0.032787\n",
              "2       0.013889  0.016393  0.333333  ...  0.163934  0.013889  0.032787\n",
              "3       0.111111  0.278689  0.319444  ...  0.262295  0.083333  0.278689\n",
              "4       0.263889  0.426230  0.125000  ...  0.377049  0.402778  0.409836\n",
              "5       0.638889  0.295082  0.069444  ...  0.147541  0.527778  0.295082\n",
              "\n",
              "[5 rows x 12 columns]"
            ]
          },
          "metadata": {
            "tags": []
          },
          "execution_count": 22
        }
      ]
    },
    {
      "cell_type": "markdown",
      "metadata": {
        "id": "TxvyfyZPpphX",
        "colab_type": "text"
      },
      "source": [
        "# Prediction"
      ]
    },
    {
      "cell_type": "code",
      "metadata": {
        "id": "Fc9ivzlhgFHh",
        "colab_type": "code",
        "colab": {}
      },
      "source": [
        "def Predict(model,vector):\n",
        "\n",
        "  length = len(vector)\n",
        "  for i in range(length):\n",
        "    vector[i] = int(vector[i])\n",
        "    \n",
        "  #print('Vector: {}'.format(vector))\n",
        "\n",
        "  happy_prob = len(Happy_df) / len(data)\n",
        "  #happy_prob = 1\n",
        "  sad_prob = 1 - happy_prob\n",
        "  #sad_prob = 1\n",
        " \n",
        "  for i in range(length):\n",
        "    happy_prob *= model['Happy_X' + str(i+1)][vector[i]]\n",
        "    sad_prob *= model['Sad_X' + str(i+1)][vector[i]]\n",
        "  \n",
        "  print('happy_prob = {} , sad_prob = {}'.format(happy_prob,sad_prob))\n",
        "  if happy_prob >= sad_prob:\n",
        "    return 1\n",
        "  else: return 0\n",
        "    "
      ],
      "execution_count": 0,
      "outputs": []
    },
    {
      "cell_type": "markdown",
      "metadata": {
        "id": "ZJkB6MFvptDF",
        "colab_type": "text"
      },
      "source": [
        "# Testing"
      ]
    },
    {
      "cell_type": "code",
      "metadata": {
        "id": "KTWYiulbnbNK",
        "colab_type": "code",
        "outputId": "4af20c2a-b617-4166-ff11-3fc3f01a79a5",
        "colab": {
          "base_uri": "https://localhost:8080/",
          "height": 483
        }
      },
      "source": [
        "test_data = pd.read_csv('test2_19.csv')\n",
        "test_data"
      ],
      "execution_count": 0,
      "outputs": [
        {
          "output_type": "execute_result",
          "data": {
            "text/html": [
              "<div>\n",
              "<style scoped>\n",
              "    .dataframe tbody tr th:only-of-type {\n",
              "        vertical-align: middle;\n",
              "    }\n",
              "\n",
              "    .dataframe tbody tr th {\n",
              "        vertical-align: top;\n",
              "    }\n",
              "\n",
              "    .dataframe thead th {\n",
              "        text-align: right;\n",
              "    }\n",
              "</style>\n",
              "<table border=\"1\" class=\"dataframe\">\n",
              "  <thead>\n",
              "    <tr style=\"text-align: right;\">\n",
              "      <th></th>\n",
              "      <th>D,X1,X2,X3,X4,X5,X6</th>\n",
              "    </tr>\n",
              "  </thead>\n",
              "  <tbody>\n",
              "    <tr>\n",
              "      <th>0</th>\n",
              "      <td>0,5,1,4,4,4,5</td>\n",
              "    </tr>\n",
              "    <tr>\n",
              "      <th>1</th>\n",
              "      <td>0,5,2,2,4,4,5</td>\n",
              "    </tr>\n",
              "    <tr>\n",
              "      <th>2</th>\n",
              "      <td>0,5,3,5,4,5,5</td>\n",
              "    </tr>\n",
              "    <tr>\n",
              "      <th>3</th>\n",
              "      <td>1,3,4,4,5,1,3</td>\n",
              "    </tr>\n",
              "    <tr>\n",
              "      <th>4</th>\n",
              "      <td>1,5,1,5,5,5,5</td>\n",
              "    </tr>\n",
              "    <tr>\n",
              "      <th>5</th>\n",
              "      <td>1,4,3,3,4,4,4</td>\n",
              "    </tr>\n",
              "    <tr>\n",
              "      <th>6</th>\n",
              "      <td>1,5,5,1,1,5,1</td>\n",
              "    </tr>\n",
              "    <tr>\n",
              "      <th>7</th>\n",
              "      <td>0,4,4,4,4,1,3</td>\n",
              "    </tr>\n",
              "    <tr>\n",
              "      <th>8</th>\n",
              "      <td>1,5,2,3,4,4,3</td>\n",
              "    </tr>\n",
              "    <tr>\n",
              "      <th>9</th>\n",
              "      <td>0,5,3,3,1,3,5</td>\n",
              "    </tr>\n",
              "    <tr>\n",
              "      <th>10</th>\n",
              "      <td>1,5,2,3,4,2,5</td>\n",
              "    </tr>\n",
              "    <tr>\n",
              "      <th>11</th>\n",
              "      <td>1,5,3,3,4,4,5</td>\n",
              "    </tr>\n",
              "    <tr>\n",
              "      <th>12</th>\n",
              "      <td>0,4,3,3,4,4,5</td>\n",
              "    </tr>\n",
              "    <tr>\n",
              "      <th>13</th>\n",
              "      <td>0,5,3,2,5,5,5</td>\n",
              "    </tr>\n",
              "  </tbody>\n",
              "</table>\n",
              "</div>"
            ],
            "text/plain": [
              "   D,X1,X2,X3,X4,X5,X6\n",
              "0        0,5,1,4,4,4,5\n",
              "1        0,5,2,2,4,4,5\n",
              "2        0,5,3,5,4,5,5\n",
              "3        1,3,4,4,5,1,3\n",
              "4        1,5,1,5,5,5,5\n",
              "5        1,4,3,3,4,4,4\n",
              "6        1,5,5,1,1,5,1\n",
              "7        0,4,4,4,4,1,3\n",
              "8        1,5,2,3,4,4,3\n",
              "9        0,5,3,3,1,3,5\n",
              "10       1,5,2,3,4,2,5\n",
              "11       1,5,3,3,4,4,5\n",
              "12       0,4,3,3,4,4,5\n",
              "13       0,5,3,2,5,5,5"
            ]
          },
          "metadata": {
            "tags": []
          },
          "execution_count": 24
        }
      ]
    },
    {
      "cell_type": "markdown",
      "metadata": {
        "id": "0NzQphJ4s9pN",
        "colab_type": "text"
      },
      "source": [
        "# Accuracy"
      ]
    },
    {
      "cell_type": "code",
      "metadata": {
        "id": "YXdtEppEqFD5",
        "colab_type": "code",
        "outputId": "0e2ef8b4-217d-4cec-fff6-b293be9dc573",
        "colab": {
          "base_uri": "https://localhost:8080/",
          "height": 748
        }
      },
      "source": [
        "length_test = len(test_data)\n",
        "prediction = []\n",
        "for i in range(length_test):\n",
        "  test_data_string = test_data.iloc[i][0]\n",
        "  test_data_list = test_data_string.split(',')\n",
        "  pred = Predict(model,test_data_list[1:])\n",
        "  print('predicted: {} and actual: {} \\n'.format(pred,int(test_data_list[0])))\n",
        "  prediction.append( pred == int(test_data_list[0]) )\n",
        "\n",
        "accuracy = sum(prediction) / len(prediction)\n",
        "print('Final Accuracy is : {}'.format(accuracy))\n",
        " "
      ],
      "execution_count": 0,
      "outputs": [
        {
          "output_type": "stream",
          "text": [
            "happy_prob = 0.0022900565744081833 , sad_prob = 0.00023286209532403973\n",
            "predicted: 1 and actual: 0 \n",
            "\n",
            "happy_prob = 0.0015703245081656113 , sad_prob = 0.00017464657149302983\n",
            "predicted: 1 and actual: 0 \n",
            "\n",
            "happy_prob = 0.0011213889935327813 , sad_prob = 6.492296462023499e-05\n",
            "predicted: 1 and actual: 0 \n",
            "\n",
            "happy_prob = 1.2619971128136777e-06 , sad_prob = 1.6932655381604136e-05\n",
            "predicted: 0 and actual: 1 \n",
            "\n",
            "happy_prob = 0.00033028287327052473 , sad_prob = 2.485089554841531e-05\n",
            "predicted: 1 and actual: 1 \n",
            "\n",
            "happy_prob = 0.001233359040788407 , sad_prob = 0.0019416404456754665\n",
            "predicted: 0 and actual: 1 \n",
            "\n",
            "happy_prob = 1.128786306461123e-07 , sad_prob = 4.314391588266547e-08\n",
            "predicted: 1 and actual: 1 \n",
            "\n",
            "happy_prob = 6.194302495393802e-06 , sad_prob = 5.697340516633862e-05\n",
            "predicted: 0 and actual: 0 \n",
            "\n",
            "happy_prob = 0.0006446595349311456 , sad_prob = 0.000721629930821894\n",
            "predicted: 0 and actual: 1 \n",
            "\n",
            "happy_prob = 9.771634296389545e-05 , sad_prob = 3.060341766610404e-05\n",
            "predicted: 1 and actual: 0 \n",
            "\n",
            "happy_prob = 0.0011853417255185581 , sad_prob = 0.00033220815229652415\n",
            "predicted: 1 and actual: 1 \n",
            "\n",
            "happy_prob = 0.003912725232845982 , sad_prob = 0.00096783308369054\n",
            "predicted: 1 and actual: 1 \n",
            "\n",
            "happy_prob = 0.0016161256396537748 , sad_prob = 0.0013979811208863358\n",
            "predicted: 1 and actual: 0 \n",
            "\n",
            "happy_prob = 0.0004932796159235109 , sad_prob = 3.9347251284990904e-05\n",
            "predicted: 1 and actual: 0 \n",
            "\n",
            "Final Accuracy is : 0.35714285714285715\n"
          ],
          "name": "stdout"
        }
      ]
    }
  ]
}