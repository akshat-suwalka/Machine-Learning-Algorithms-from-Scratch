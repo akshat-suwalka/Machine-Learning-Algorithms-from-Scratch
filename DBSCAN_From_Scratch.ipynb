{
  "nbformat": 4,
  "nbformat_minor": 0,
  "metadata": {
    "colab": {
      "name": "DBSCAN_From_Scratch.ipynb",
      "provenance": [],
      "mount_file_id": "1DIuaWuSTGTnzklx9mPgLaPhW02QMgaKm",
      "authorship_tag": "ABX9TyN6YN6YusKflKI1HmIHwUD6",
      "include_colab_link": true
    },
    "kernelspec": {
      "name": "python3",
      "display_name": "Python 3"
    },
    "language_info": {
      "name": "python"
    }
  },
  "cells": [
    {
      "cell_type": "markdown",
      "metadata": {
        "id": "view-in-github",
        "colab_type": "text"
      },
      "source": [
        "<a href=\"https://colab.research.google.com/github/akshat-suwalka/Machine-Learning-Algorithms-from-Scratch/blob/master/DBSCAN_From_Scratch.ipynb\" target=\"_parent\"><img src=\"https://colab.research.google.com/assets/colab-badge.svg\" alt=\"Open In Colab\"/></a>"
      ]
    },
    {
      "cell_type": "markdown",
      "metadata": {
        "id": "x2bOipVFyzs0"
      },
      "source": [
        "#Library"
      ]
    },
    {
      "cell_type": "code",
      "metadata": {
        "id": "EMhQluG_yiS8"
      },
      "source": [
        "import numpy as np\n",
        "from itertools import cycle, islice\n",
        "import matplotlib.pyplot as plt\n",
        "import queue\n",
        "import pandas as pd"
      ],
      "execution_count": 1,
      "outputs": []
    },
    {
      "cell_type": "markdown",
      "metadata": {
        "id": "5Msxwjhqy-Zt"
      },
      "source": [
        "#Algorithm from Scratch"
      ]
    },
    {
      "cell_type": "markdown",
      "metadata": {
        "id": "uqT9XCkQzHDH"
      },
      "source": [
        "##Calculate all Neighbourhood Points of each given points"
      ]
    },
    {
      "cell_type": "code",
      "metadata": {
        "id": "DPAWkhU_zO7c"
      },
      "source": [
        "def neighbour_points(data, pointId, epsilon):\n",
        "        points = []\n",
        "        for i in range(len(data)):\n",
        "            # Euclidian distance\n",
        "            if np.linalg.norm([a_i - b_i for a_i, b_i in zip(data[i], data[pointId])]) <= epsilon:\n",
        "                points.append(i)\n",
        "        return points"
      ],
      "execution_count": 2,
      "outputs": []
    },
    {
      "cell_type": "code",
      "metadata": {
        "colab": {
          "base_uri": "https://localhost:8080/"
        },
        "id": "wJYILJBgzCqf",
        "outputId": "74f79938-a4bc-47bc-beb9-c785436b3981"
      },
      "source": [
        "#Example\n",
        "toy_data = np.random.rand(1000,2)\n",
        "toy_data"
      ],
      "execution_count": 3,
      "outputs": [
        {
          "output_type": "execute_result",
          "data": {
            "text/plain": [
              "array([[0.05779331, 0.47220624],\n",
              "       [0.91163862, 0.96399288],\n",
              "       [0.77889909, 0.73062519],\n",
              "       ...,\n",
              "       [0.12977452, 0.92325045],\n",
              "       [0.32158114, 0.29270188],\n",
              "       [0.95455371, 0.57950711]])"
            ]
          },
          "metadata": {
            "tags": []
          },
          "execution_count": 3
        }
      ]
    },
    {
      "cell_type": "code",
      "metadata": {
        "id": "gzbnUR6rzfuU"
      },
      "source": [
        "epsilon = 0.2"
      ],
      "execution_count": 4,
      "outputs": []
    },
    {
      "cell_type": "code",
      "metadata": {
        "colab": {
          "base_uri": "https://localhost:8080/"
        },
        "id": "2qz1cV_3zkvj",
        "outputId": "0b8d63da-5558-45ff-802d-c0fee9f3f357"
      },
      "source": [
        "nb_points = neighbour_points(toy_data, 4, epsilon)\n",
        "print(nb_points)\n",
        "len(nb_points)"
      ],
      "execution_count": 5,
      "outputs": [
        {
          "output_type": "stream",
          "text": [
            "[4, 18, 58, 88, 103, 110, 111, 136, 137, 156, 160, 167, 172, 180, 189, 207, 210, 211, 222, 253, 266, 278, 291, 293, 306, 314, 316, 323, 326, 328, 330, 366, 376, 414, 426, 441, 451, 472, 484, 488, 498, 551, 565, 576, 580, 592, 660, 664, 692, 716, 723, 726, 736, 749, 764, 767, 769, 781, 786, 790, 795, 806, 833, 835, 836, 861, 888, 895, 898, 903, 908, 941, 944, 962, 966, 979, 985, 996, 997]\n"
          ],
          "name": "stdout"
        },
        {
          "output_type": "execute_result",
          "data": {
            "text/plain": [
              "79"
            ]
          },
          "metadata": {
            "tags": []
          },
          "execution_count": 5
        }
      ]
    },
    {
      "cell_type": "markdown",
      "metadata": {
        "id": "rPh6HKbW0C1z"
      },
      "source": [
        "##Fit the data in DBSCAN (Would be long code 🤐)"
      ]
    },
    {
      "cell_type": "code",
      "metadata": {
        "id": "ekq98EVY0daJ"
      },
      "source": [
        "def fit(core, border, data, Eps, MinPt):\n",
        "        # initialize all points as outliers\n",
        "        point_label = [0] * len(data)\n",
        "        point_count = []\n",
        "\n",
        "        # initilize list for core/border points\n",
        "        core = []\n",
        "        border = []\n",
        "\n",
        "        # Find the neighbours of each individual point\n",
        "        for i in range(len(data)):\n",
        "            point_count.append(neighbour_points(data, i, Eps))\n",
        "\n",
        "        # Find all the core points, border points and outliers\n",
        "        for i in range(len(point_count)):\n",
        "            if (len(point_count[i]) >= MinPt):\n",
        "                point_label[i] = core\n",
        "                core.append(i)\n",
        "            else:\n",
        "                border.append(i)\n",
        "\n",
        "        for i in border:\n",
        "            for j in point_count[i]:\n",
        "                if j in core:\n",
        "                    point_label[i] = border\n",
        "                    break\n",
        "\n",
        "        # Assign points to a cluster\n",
        "\n",
        "        cluster = 1\n",
        "\n",
        "        # Here we use a queue to find all the neighbourhood points of a core point and find the indirectly reachable points\n",
        "        # We are essentially performing Breadth First search of all points which are within Epsilon distance for each other\n",
        "        for i in range(len(point_label)):\n",
        "            q = queue.Queue()\n",
        "            if (point_label[i] == core):\n",
        "                point_label[i] = cluster\n",
        "                for x in point_count[i]:\n",
        "                    if(point_label[x] == core):\n",
        "                        q.put(x)\n",
        "                        point_label[x] = cluster\n",
        "                    elif(point_label[x] == border):\n",
        "                        point_label[x] = cluster\n",
        "                while not q.empty():\n",
        "                    neighbors = point_count[q.get()]\n",
        "                    for y in neighbors:\n",
        "                        if (point_label[y] == core):\n",
        "                            point_label[y] = cluster\n",
        "                            q.put(y)\n",
        "                        if (point_label[y] == border):\n",
        "                            point_label[y] = cluster\n",
        "                cluster += 1  # Move on to the next cluster\n",
        "\n",
        "        return point_label, cluster-1"
      ],
      "execution_count": 6,
      "outputs": []
    },
    {
      "cell_type": "code",
      "metadata": {
        "id": "SY11W7ui1Wqp"
      },
      "source": [
        "#Example parameter\n",
        "MinPt = 4\n",
        "Eps = 0.1\n",
        "core = -1\n",
        "border = -2"
      ],
      "execution_count": 7,
      "outputs": []
    },
    {
      "cell_type": "code",
      "metadata": {
        "id": "D0P1oE_c1qNp"
      },
      "source": [
        "#Example fitting\n",
        "point_label,cluster = fit(core, border, toy_data, Eps, MinPt)"
      ],
      "execution_count": 8,
      "outputs": []
    },
    {
      "cell_type": "code",
      "metadata": {
        "colab": {
          "base_uri": "https://localhost:8080/"
        },
        "id": "36XyiK9W16Qf",
        "outputId": "df69b51e-a62d-4295-a5a7-bb3b75b321a4"
      },
      "source": [
        "print(point_label)"
      ],
      "execution_count": 9,
      "outputs": [
        {
          "output_type": "stream",
          "text": [
            "[1, 1, 1, 1, 1, 1, 1, 1, 1, 1, 1, 1, 1, 1, 1, 1, 1, 1, 1, 1, 1, 1, 1, 1, 1, 1, 1, 1, 1, 1, 1, 1, 1, 1, 1, 1, 1, 1, 1, 1, 1, 1, 1, 1, 1, 1, 1, 1, 1, 1, 1, 1, 1, 1, 1, 1, 1, 1, 1, 1, 1, 1, 1, 1, 1, 1, 1, 1, 1, 1, 1, 1, 1, 1, 1, 1, 1, 1, 1, 1, 1, 1, 1, 1, 1, 1, 1, 1, 1, 1, 1, 1, 1, 1, 1, 1, 1, 1, 1, 1, 1, 1, 1, 1, 1, 1, 1, 1, 1, 1, 1, 1, 1, 1, 1, 1, 1, 1, 1, 1, 1, 1, 1, 1, 1, 1, 1, 1, 1, 1, 1, 1, 1, 1, 1, 1, 1, 1, 1, 1, 1, 1, 1, 1, 1, 1, 1, 1, 1, 1, 1, 1, 1, 1, 1, 1, 1, 1, 1, 1, 1, 1, 1, 1, 1, 1, 1, 1, 1, 1, 1, 1, 1, 1, 1, 1, 1, 1, 1, 1, 1, 1, 1, 1, 1, 1, 1, 1, 1, 1, 1, 1, 1, 1, 1, 1, 1, 1, 1, 1, 1, 1, 1, 1, 1, 1, 1, 1, 1, 1, 1, 1, 1, 1, 1, 1, 1, 1, 1, 1, 1, 1, 1, 1, 1, 1, 1, 1, 1, 1, 1, 1, 1, 1, 1, 1, 1, 1, 1, 1, 1, 1, 1, 1, 1, 1, 1, 1, 1, 1, 1, 1, 1, 1, 1, 1, 1, 1, 1, 1, 1, 1, 1, 1, 1, 1, 1, 1, 1, 1, 1, 1, 1, 1, 1, 1, 1, 1, 1, 1, 1, 1, 1, 1, 1, 1, 1, 1, 1, 1, 1, 1, 1, 1, 1, 1, 1, 1, 1, 1, 1, 1, 1, 1, 1, 1, 1, 1, 1, 1, 1, 1, 1, 1, 1, 1, 1, 1, 1, 1, 1, 1, 1, 1, 1, 1, 1, 1, 1, 1, 1, 1, 1, 1, 1, 1, 1, 1, 1, 1, 1, 1, 1, 1, 1, 1, 1, 1, 1, 1, 1, 1, 1, 1, 1, 1, 1, 1, 1, 1, 1, 1, 1, 1, 1, 1, 1, 1, 1, 1, 1, 1, 1, 1, 1, 1, 1, 1, 1, 1, 1, 1, 1, 1, 1, 1, 1, 1, 1, 1, 1, 1, 1, 1, 1, 1, 1, 1, 1, 1, 1, 1, 1, 1, 1, 1, 1, 1, 1, 1, 1, 1, 1, 1, 1, 1, 1, 1, 1, 1, 1, 1, 1, 1, 1, 1, 1, 1, 1, 1, 1, 1, 1, 1, 1, 1, 1, 1, 1, 1, 1, 1, 1, 1, 1, 1, 1, 1, 1, 1, 1, 1, 1, 1, 1, 1, 1, 1, 1, 1, 1, 1, 1, 1, 1, 1, 1, 1, 1, 1, 1, 1, 1, 1, 1, 1, 1, 1, 1, 1, 1, 1, 1, 1, 1, 1, 1, 1, 1, 1, 1, 1, 1, 1, 1, 1, 1, 1, 1, 1, 1, 1, 1, 1, 1, 1, 1, 1, 1, 1, 1, 1, 1, 1, 1, 1, 1, 1, 1, 1, 1, 1, 1, 1, 1, 1, 1, 1, 1, 1, 1, 1, 1, 1, 1, 1, 1, 1, 1, 1, 1, 1, 1, 1, 1, 1, 1, 1, 1, 1, 1, 1, 1, 1, 1, 1, 1, 1, 1, 1, 1, 1, 1, 1, 1, 1, 1, 1, 1, 1, 1, 1, 1, 1, 1, 1, 1, 1, 1, 1, 1, 1, 1, 1, 1, 1, 1, 1, 1, 1, 1, 1, 1, 1, 1, 1, 1, 1, 1, 1, 1, 1, 1, 1, 1, 1, 1, 1, 1, 1, 1, 1, 1, 1, 1, 1, 1, 1, 1, 1, 1, 1, 1, 1, 1, 1, 1, 1, 1, 1, 1, 1, 1, 1, 1, 1, 1, 1, 1, 1, 1, 1, 1, 1, 1, 1, 1, 1, 1, 1, 1, 1, 1, 1, 1, 1, 1, 1, 1, 1, 1, 1, 1, 1, 1, 1, 1, 1, 1, 1, 1, 1, 1, 1, 1, 1, 1, 1, 1, 1, 1, 1, 1, 1, 1, 1, 1, 1, 1, 1, 1, 1, 1, 1, 1, 1, 1, 1, 1, 1, 1, 1, 1, 1, 1, 1, 1, 1, 1, 1, 1, 1, 1, 1, 1, 1, 1, 1, 1, 1, 1, 1, 1, 1, 1, 1, 1, 1, 1, 1, 1, 1, 1, 1, 1, 1, 1, 1, 1, 1, 1, 1, 1, 1, 1, 1, 1, 1, 1, 1, 1, 1, 1, 1, 1, 1, 1, 1, 1, 1, 1, 1, 1, 1, 1, 1, 1, 1, 1, 1, 1, 1, 1, 1, 1, 1, 1, 1, 1, 1, 1, 1, 1, 1, 1, 1, 1, 1, 1, 1, 1, 1, 1, 1, 1, 1, 1, 1, 1, 1, 1, 1, 1, 1, 1, 1, 1, 1, 1, 1, 1, 1, 1, 1, 1, 1, 1, 1, 1, 1, 1, 1, 1, 1, 1, 1, 1, 1, 1, 1, 1, 1, 1, 1, 1, 1, 1, 1, 1, 1, 1, 1, 1, 1, 1, 1, 1, 1, 1, 1, 1, 1, 1, 1, 1, 1, 1, 1, 1, 1, 1, 1, 1, 1, 1, 1, 1, 1, 1, 1, 1, 1, 1, 1, 1, 1, 1, 1, 1, 1, 1, 1, 1, 1, 1, 1, 1, 1, 1, 1, 1, 1, 1, 1, 1, 1, 1, 1, 1, 1, 1, 1, 1, 1, 1, 1, 1, 1, 1, 1, 1, 1, 1, 1, 1, 1, 1, 1, 1, 1, 1, 1, 1, 1, 1, 1, 1, 1, 1, 1, 1, 1, 1, 1, 1, 1, 1, 1, 1, 1, 1, 1, 1, 1, 1, 1, 1, 1, 1, 1, 1, 1, 1, 1, 1, 1, 1, 1, 1, 1, 1, 1, 1, 1, 1, 1, 1, 1, 1, 1, 1, 1, 1, 1, 1, 1, 1, 1, 1, 1, 1, 1, 1, 1, 1, 1, 1, 1, 1, 1, 1, 1, 1, 1, 1, 1, 1, 1, 1, 1]\n"
          ],
          "name": "stdout"
        }
      ]
    },
    {
      "cell_type": "code",
      "metadata": {
        "colab": {
          "base_uri": "https://localhost:8080/"
        },
        "id": "ty1yoFk62NmD",
        "outputId": "e7d456b3-a2e1-47c0-9580-e67999b5148f"
      },
      "source": [
        "print(cluster)"
      ],
      "execution_count": 10,
      "outputs": [
        {
          "output_type": "stream",
          "text": [
            "1\n"
          ],
          "name": "stdout"
        }
      ]
    },
    {
      "cell_type": "markdown",
      "metadata": {
        "id": "W3vJOSL02gP0"
      },
      "source": [
        "##Visualize"
      ]
    },
    {
      "cell_type": "code",
      "metadata": {
        "id": "V2_hC-7n2iKS"
      },
      "source": [
        "def visualize(data, cluster, numberOfClusters):\n",
        "        N = len(data)\n",
        "\n",
        "        colors = np.array(list(islice(cycle(['#FE4A49', '#2AB7CA']), 3)))\n",
        "\n",
        "        for i in range(numberOfClusters):\n",
        "            if (i == 0):\n",
        "                # Plot all outliers point as black\n",
        "                color = '#000000'\n",
        "            else:\n",
        "                color = colors[i % len(colors)]\n",
        "\n",
        "            x, y = [], []\n",
        "            for j in range(N):\n",
        "                if cluster[j] == i:\n",
        "                    x.append(data[j, 0])\n",
        "                    y.append(data[j, 1])\n",
        "            plt.scatter(x, y, c=color, alpha=1, marker='.')\n",
        "        plt.show()"
      ],
      "execution_count": 11,
      "outputs": []
    },
    {
      "cell_type": "code",
      "metadata": {
        "colab": {
          "base_uri": "https://localhost:8080/",
          "height": 265
        },
        "id": "V26Ei0uo2e0r",
        "outputId": "37c749ad-64ea-4733-c9d1-2c4712bb5bae"
      },
      "source": [
        "#Example\n",
        "visualize(toy_data, point_label, cluster)"
      ],
      "execution_count": 12,
      "outputs": [
        {
          "output_type": "display_data",
          "data": {
            "image/png": "[encoded data removed]",
            "text/plain": [
              "<Figure size 432x288 with 1 Axes>"
            ]
          },
          "metadata": {
            "tags": [],
            "needs_background": "light"
          }
        }
      ]
    },
    {
      "cell_type": "markdown",
      "metadata": {
        "id": "xkiXgCNq3bdi"
      },
      "source": [
        "##All together with real example"
      ]
    },
    {
      "cell_type": "code",
      "metadata": {
        "id": "hl3kvEDY3sdx"
      },
      "source": [
        "from sklearn import datasets\n",
        "from sklearn.preprocessing import StandardScaler"
      ],
      "execution_count": 13,
      "outputs": []
    },
    {
      "cell_type": "code",
      "metadata": {
        "id": "q10eiVbT3gfL"
      },
      "source": [
        "class CustomDBSCAN():\n",
        "    def __init__(self):\n",
        "        self.core = -1\n",
        "        self.border = -2\n",
        "\n",
        "    # Find all neighbour points at epsilon distance\n",
        "    def neighbour_points(self, data, pointId, epsilon):\n",
        "        points = []\n",
        "        for i in range(len(data)):\n",
        "            # Euclidian distance\n",
        "            if np.linalg.norm([a_i - b_i for a_i, b_i in zip(data[i], data[pointId])]) <= epsilon:\n",
        "                points.append(i)\n",
        "        return points\n",
        "\n",
        "    # Fit the data into the DBSCAN model\n",
        "    def fit(self, data, Eps, MinPt):\n",
        "        # initialize all points as outliers\n",
        "        point_label = [0] * len(data)\n",
        "        point_count = []\n",
        "\n",
        "        # initilize list for core/border points\n",
        "        core = []\n",
        "        border = []\n",
        "\n",
        "        # Find the neighbours of each individual point\n",
        "        for i in range(len(data)):\n",
        "            point_count.append(self.neighbour_points(data, i, Eps))\n",
        "\n",
        "        # Find all the core points, border points and outliers\n",
        "        for i in range(len(point_count)):\n",
        "            if (len(point_count[i]) >= MinPt):\n",
        "                point_label[i] = self.core\n",
        "                core.append(i)\n",
        "            else:\n",
        "                border.append(i)\n",
        "\n",
        "        for i in border:\n",
        "            for j in point_count[i]:\n",
        "                if j in core:\n",
        "                    point_label[i] = self.border\n",
        "                    break\n",
        "\n",
        "        # Assign points to a cluster\n",
        "\n",
        "        cluster = 1\n",
        "\n",
        "        # Here we use a queue to find all the neighbourhood points of a core point and find the indirectly reachable points\n",
        "        # We are essentially performing Breadth First search of all points which are within Epsilon distance for each other\n",
        "        for i in range(len(point_label)):\n",
        "            q = queue.Queue()\n",
        "            if (point_label[i] == self.core):\n",
        "                point_label[i] = cluster\n",
        "                for x in point_count[i]:\n",
        "                    if(point_label[x] == self.core):\n",
        "                        q.put(x)\n",
        "                        point_label[x] = cluster\n",
        "                    elif(point_label[x] == self.border):\n",
        "                        point_label[x] = cluster\n",
        "                while not q.empty():\n",
        "                    neighbors = point_count[q.get()]\n",
        "                    for y in neighbors:\n",
        "                        if (point_label[y] == self.core):\n",
        "                            point_label[y] = cluster\n",
        "                            q.put(y)\n",
        "                        if (point_label[y] == self.border):\n",
        "                            point_label[y] = cluster\n",
        "                cluster += 1  # Move on to the next cluster\n",
        "\n",
        "        return point_label, cluster\n",
        "\n",
        "    # Visualize the clusters\n",
        "    def visualize(self, data, cluster, numberOfClusters):\n",
        "        N = len(data)\n",
        "\n",
        "        colors = np.array(list(islice(cycle(['#FE4A49', '#2AB7CA']), 3)))\n",
        "\n",
        "        for i in range(numberOfClusters):\n",
        "            if (i == 0):\n",
        "                # Plot all outliers point as black\n",
        "                color = '#000000'\n",
        "            else:\n",
        "                color = colors[i % len(colors)]\n",
        "\n",
        "            x, y = [], []\n",
        "            for j in range(N):\n",
        "                if cluster[j] == i:\n",
        "                    x.append(data[j, 0])\n",
        "                    y.append(data[j, 1])\n",
        "            plt.scatter(x, y, c=color, alpha=1, marker='.')\n",
        "        plt.show()"
      ],
      "execution_count": 14,
      "outputs": []
    },
    {
      "cell_type": "markdown",
      "metadata": {
        "id": "PjJzhN4C7y2Q"
      },
      "source": [
        "###Real example"
      ]
    },
    {
      "cell_type": "code",
      "metadata": {
        "id": "G1b5Q6qE7NKS"
      },
      "source": [
        "from sklearn.datasets import make_circles"
      ],
      "execution_count": 15,
      "outputs": []
    },
    {
      "cell_type": "code",
      "metadata": {
        "colab": {
          "base_uri": "https://localhost:8080/",
          "height": 302
        },
        "id": "_RXWyUuI3wqY",
        "outputId": "ddc9db7d-e10d-40b3-98e6-9070970eb03f"
      },
      "source": [
        "# Data\n",
        "X, y = make_circles(n_samples=750, factor=0.3, noise=0.1)\n",
        "\n",
        "# normalize dataset\n",
        "X = StandardScaler().fit_transform(X)\n",
        "\n",
        "custom_DBSCAN = CustomDBSCAN()\n",
        "point_labels, clusters = custom_DBSCAN.fit(X, 0.25, 4)\n",
        "\n",
        "print(point_labels, clusters)\n",
        "\n",
        "custom_DBSCAN.visualize(X, point_labels, clusters)\n"
      ],
      "execution_count": 16,
      "outputs": [
        {
          "output_type": "stream",
          "text": [
            "[1, 2, 1, 1, 1, 1, 1, 1, 2, 2, 1, 1, 1, 2, 1, 2, 2, 1, 1, 2, 1, 2, 1, 2, 1, 1, 2, 1, 1, 2, 1, 2, 1, 2, 2, 2, 2, 1, 2, 2, 2, 1, 1, 2, 1, 2, 2, 2, 1, 2, 1, 2, 1, 2, 1, 1, 1, 1, 2, 2, 2, 2, 1, 2, 2, 2, 1, 1, 1, 1, 1, 1, 2, 1, 1, 2, 1, 2, 1, 2, 2, 1, 2, 2, 2, 2, 1, 2, 1, 2, 1, 1, 2, 1, 2, 1, 1, 2, 1, 2, 2, 2, 2, 2, 2, 1, 2, 2, 2, 2, 1, 2, 1, 2, 2, 1, 1, 1, 1, 1, 2, 2, 1, 1, 2, 1, 1, 1, 1, 1, 2, 2, 1, 1, 1, 1, 1, 1, 2, 2, 2, 1, 1, 2, 2, 1, 1, 2, 2, 1, 1, 2, 1, 2, 1, 2, 1, 1, 2, 2, 2, 2, 0, 2, 1, 2, 1, 2, 2, 1, 1, 1, 2, 1, 2, 1, 1, 2, 1, 1, 1, 2, 2, 1, 2, 2, 1, 2, 1, 2, 2, 1, 1, 1, 0, 2, 1, 1, 1, 1, 0, 1, 2, 1, 1, 2, 1, 2, 1, 1, 2, 1, 2, 2, 1, 1, 1, 1, 2, 1, 1, 2, 1, 1, 2, 1, 1, 1, 2, 1, 1, 1, 2, 1, 2, 2, 2, 2, 2, 1, 2, 2, 2, 2, 2, 1, 1, 2, 2, 1, 2, 2, 1, 2, 2, 1, 2, 1, 1, 2, 2, 2, 1, 1, 2, 1, 2, 1, 2, 2, 1, 1, 2, 1, 1, 1, 1, 1, 1, 2, 2, 1, 2, 2, 2, 2, 2, 1, 2, 1, 1, 1, 1, 2, 2, 1, 0, 1, 1, 1, 2, 2, 2, 2, 2, 2, 1, 1, 1, 1, 2, 2, 2, 2, 2, 2, 1, 2, 2, 1, 2, 2, 2, 2, 1, 1, 2, 1, 1, 2, 2, 1, 2, 2, 2, 2, 2, 1, 1, 2, 1, 2, 2, 1, 1, 1, 2, 1, 1, 2, 2, 2, 2, 1, 1, 2, 1, 1, 2, 2, 1, 2, 1, 1, 1, 1, 2, 1, 2, 1, 1, 2, 1, 1, 2, 2, 2, 1, 1, 2, 2, 2, 2, 2, 1, 2, 2, 1, 1, 2, 2, 1, 1, 1, 2, 1, 2, 2, 2, 2, 1, 1, 2, 1, 1, 1, 2, 2, 1, 2, 1, 1, 2, 2, 1, 2, 1, 2, 1, 2, 1, 2, 2, 2, 2, 2, 1, 2, 1, 1, 1, 2, 2, 2, 1, 2, 1, 1, 1, 1, 1, 2, 2, 1, 1, 1, 2, 2, 1, 1, 1, 2, 1, 2, 1, 1, 1, 1, 2, 0, 0, 1, 0, 2, 1, 2, 2, 1, 2, 2, 2, 2, 2, 1, 2, 1, 2, 2, 1, 1, 2, 1, 1, 2, 2, 0, 1, 1, 1, 2, 2, 2, 1, 1, 1, 1, 2, 2, 1, 1, 1, 1, 2, 1, 1, 1, 2, 2, 1, 2, 1, 1, 1, 2, 1, 2, 1, 2, 1, 1, 1, 1, 2, 2, 2, 2, 1, 2, 2, 1, 2, 2, 2, 1, 2, 1, 2, 2, 2, 1, 2, 1, 1, 1, 1, 2, 1, 1, 2, 2, 1, 1, 1, 2, 2, 1, 2, 2, 1, 1, 2, 1, 1, 2, 2, 1, 1, 1, 2, 1, 1, 2, 1, 2, 1, 1, 1, 2, 2, 1, 2, 2, 1, 1, 2, 1, 2, 2, 2, 2, 2, 2, 1, 1, 2, 1, 1, 2, 2, 1, 1, 1, 1, 1, 2, 1, 2, 1, 2, 2, 1, 1, 1, 2, 1, 2, 2, 1, 2, 1, 1, 2, 2, 1, 2, 1, 1, 2, 1, 2, 2, 2, 2, 2, 2, 2, 2, 2, 1, 1, 2, 1, 2, 2, 1, 2, 1, 2, 1, 2, 2, 1, 2, 1, 2, 1, 1, 1, 2, 2, 1, 2, 2, 2, 2, 1, 2, 2, 1, 1, 1, 1, 1, 1, 1, 1, 1, 2, 1, 2, 1, 2, 1, 2, 2, 2, 2, 1, 1, 2, 1, 1, 2, 1, 2, 2, 1, 1, 2, 2, 2, 2, 2, 1, 1, 2, 2, 2, 1, 2, 2, 2, 2, 2, 1, 1, 2, 1, 2, 2, 1, 1, 2, 1, 2, 2, 2, 2, 2, 1, 1, 2, 2, 2, 2, 2, 2, 2, 1, 2, 2, 1, 1, 2, 1, 2, 1, 2, 1, 1] 3\n"
          ],
          "name": "stdout"
        },
        {
          "output_type": "display_data",
          "data": {
            "image/png": "[encoded data removed]",
            "text/plain": [
              "<Figure size 432x288 with 1 Axes>"
            ]
          },
          "metadata": {
            "tags": [],
            "needs_background": "light"
          }
        }
      ]
    },
    {
      "cell_type": "markdown",
      "metadata": {
        "id": "VfqQL6o36shU"
      },
      "source": [
        "#From Sklearn"
      ]
    },
    {
      "cell_type": "code",
      "metadata": {
        "id": "dUwEavkE64Oz"
      },
      "source": [
        "from sklearn.cluster import DBSCAN"
      ],
      "execution_count": 17,
      "outputs": []
    },
    {
      "cell_type": "code",
      "metadata": {
        "colab": {
          "base_uri": "https://localhost:8080/",
          "height": 282
        },
        "id": "ancDal876uil",
        "outputId": "e52484f5-dcae-409a-92ad-d36dcca5b849"
      },
      "source": [
        "# Data\n",
        "X, y = make_circles(n_samples=750, factor=0.3, noise=0.1)\n",
        "\n",
        "X = StandardScaler().fit_transform(X)\n",
        "\n",
        "y_pred = DBSCAN(eps=0.3, min_samples=10).fit_predict(X)\n",
        "\n",
        "plt.scatter(X[:,0], X[:,1], c=y_pred)"
      ],
      "execution_count": 18,
      "outputs": [
        {
          "output_type": "execute_result",
          "data": {
            "text/plain": [
              "<matplotlib.collections.PathCollection at 0x7fcc49461110>"
            ]
          },
          "metadata": {
            "tags": []
          },
          "execution_count": 18
        },
        {
          "output_type": "display_data",
          "data": {
            "image/png": "[encoded data removed]",
            "text/plain": [
              "<Figure size 432x288 with 1 Axes>"
            ]
          },
          "metadata": {
            "tags": [],
            "needs_background": "light"
          }
        }
      ]
    }
  ]
}